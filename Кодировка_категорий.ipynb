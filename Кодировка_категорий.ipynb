import pandas as pd
import random
# Исходный DataFrame
lst = ['robot'] * 10
lst += ['human'] * 10
random.shuffle(lst)
data = pd.DataFrame({'whoAmI': lst})
data.head()

# Создание пустого DataFrame для хранения one-hot-кодированных значений
one_hot_data = pd.DataFrame()

# Уникальные значения из столбца 'whoAmI'
unique_values = data['whoAmI'].unique()

# Проход по уникальным значениям и создание соответствующего столбца в one-hot-кодированном DataFrame
for value in unique_values:
    one_hot_data[value] = (data['whoAmI'] == value).astype(int)

one_hot_data.head()

print(one_hot_data)
